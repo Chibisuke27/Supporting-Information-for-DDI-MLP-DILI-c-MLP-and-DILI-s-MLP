{
 "cells": [
  {
   "cell_type": "markdown",
   "metadata": {},
   "source": [
    "Step 1: Import Python Libraries into the Jupyter Notebook.\n",
    "\n",
    "Note: Please download the relevant Python packages to execute this notebook."
   ]
  },
  {
   "cell_type": "code",
   "execution_count": 1,
   "metadata": {},
   "outputs": [
    {
     "name": "stderr",
     "output_type": "stream",
     "text": [
      "Using TensorFlow backend.\n"
     ]
    }
   ],
   "source": [
    "import pandas as pd\n",
    "from keras.models import load_model\n",
    "import numpy as np\n",
    "import time"
   ]
  },
  {
   "cell_type": "markdown",
   "metadata": {},
   "source": [
    "Step 2: Load the precalculated featurizations for each of the 1,710 drugs in the DrugBank database (SSP, c-ADMET and c-MolDes); load the DDI categorical description to explain the meaning of each type of DDI; and load the description of DB_ID to generic drug name. DB_ID refers to the DrugBank ID that is used to unequivocally refer to a specific drug structure in the DrugBank database."
   ]
  },
  {
   "cell_type": "code",
   "execution_count": 2,
   "metadata": {},
   "outputs": [],
   "source": [
    "SSP=pd.read_csv(\"3_1_1_Input Features for DDI MLP\\DDI_MLP_SSP.csv\")\n",
    "c_ADMET=pd.read_csv(\"3_1_1_Input Features for DDI MLP\\DDI_MLP_Standardized_c-ADMET.csv\")\n",
    "c_MolDes=pd.read_csv(\"3_1_1_Input Features for DDI MLP\\DDI_MLP_Standardized_c-MolDes.csv\")\n",
    "DDI_Type_general_description=pd.read_csv(\"3_1_2_Misc Input Files for DDI MLP\\DrugBank_DDI_Categorical_Description.csv\")\n",
    "\n",
    "DB_ID_to_Generic_Name_df=pd.read_csv(\"3_1_2_Misc Input Files for DDI MLP\\Drugs_DB_ID_to_Generic_Name.csv\")\n",
    "DB_ID=list(DB_ID_to_Generic_Name_df[\"DB_ID\"].values)\n",
    "Generic_Name=list(DB_ID_to_Generic_Name_df[\"Drug_Generic_Name\"].values)\n",
    "DB_ID_to_Generic_Name={}\n",
    "for i in range(len(DB_ID)):\n",
    "    DB_ID_to_Generic_Name[DB_ID[i]]=Generic_Name[i]"
   ]
  },
  {
   "cell_type": "markdown",
   "metadata": {},
   "source": [
    "Step 3: Load DDI MLP model into the notebook.\n",
    "\n",
    "\n",
    "Note: You can safely ignore any tensorflow warnings that pop up when executing this cell."
   ]
  },
  {
   "cell_type": "code",
   "execution_count": 3,
   "metadata": {},
   "outputs": [
    {
     "name": "stdout",
     "output_type": "stream",
     "text": [
      "WARNING:tensorflow:From C:\\Users\\User\\Anaconda3\\lib\\site-packages\\tensorflow\\python\\ops\\control_flow_ops.py:423: colocate_with (from tensorflow.python.framework.ops) is deprecated and will be removed in a future version.\n",
      "Instructions for updating:\n",
      "Colocations handled automatically by placer.\n",
      "WARNING:tensorflow:From C:\\Users\\User\\Anaconda3\\lib\\site-packages\\tensorflow\\python\\ops\\math_ops.py:3066: to_int32 (from tensorflow.python.ops.math_ops) is deprecated and will be removed in a future version.\n",
      "Instructions for updating:\n",
      "Use tf.cast instead.\n"
     ]
    }
   ],
   "source": [
    "start_time = time.time()\n",
    "saved_model = load_model(\"3_1_2_Misc Input Files for DDI MLP\\Optimized_DDI_MLP-NN_Arch_4_1024-Triple_Feat.h5\")\n",
    "model_load_time=time.time() - start_time"
   ]
  },
  {
   "cell_type": "markdown",
   "metadata": {},
   "source": [
    "Step 4: Define a function that takes Drug A and Drug B (in the DB_ID (DrugBank ID) format within the database (1,710 drugs)), which will then create the DDI MLP input by looking up the featurization values for both drugs in Step 2, and output the expected DDI between Drug A and B (order-sensitive)."
   ]
  },
  {
   "cell_type": "code",
   "execution_count": 4,
   "metadata": {},
   "outputs": [],
   "source": [
    "def execute_DDI_MLP(Drug_A, Drug_B):\n",
    "    start_time = time.time()\n",
    "    Drug_Pair=[Drug_A, Drug_B]\n",
    "    Drug_query=[]\n",
    "\n",
    "    for Drug in Drug_Pair:\n",
    "        SSP_query=list(SSP.loc[SSP['DB_ID'] == Drug].values[0])[1:]\n",
    "        c_ADMET_query=list(c_ADMET.loc[c_ADMET['DB_ID'] == Drug].values[0])[1:]\n",
    "        c_MolDes_query=list(c_MolDes.loc[c_MolDes['DB_ID'] == Drug].values[0])[1:]\n",
    "        temp_query=SSP_query+c_MolDes_query+c_ADMET_query \n",
    "        Drug_query=Drug_query+temp_query\n",
    "\n",
    "    input_to_DDI_MLP=pd.DataFrame(Drug_query).T\n",
    "\n",
    "    #Get DDI MLP Prediction:\n",
    "    output_vector = saved_model.predict(input_to_DDI_MLP)\n",
    "    predicted_DDI = np.argmax(output_vector, axis=1)+1\n",
    "    print(\"Model Name: DDI MLP, [4,1024] network architecture, triple features\")\n",
    "    print(\"\\n--- Query Details ---\")\n",
    "    print(\"Drug A :\", Drug_A, \"( Common Name:\", DB_ID_to_Generic_Name[Drug_A],\")\")\n",
    "    print(\"Drug B :\", Drug_B, \"( Common Name:\", DB_ID_to_Generic_Name[Drug_B],\")\")\n",
    "    print(\"\\n--- Start of Query Results ---\")\n",
    "    print(\"DDI MLP predicts type\", predicted_DDI, \"DDI between Drug A (\", DB_ID_to_Generic_Name[Drug_A], \") and B (\", DB_ID_to_Generic_Name[Drug_B],\").\")\n",
    "    print(\"Type\", predicted_DDI, \"DDI means :\", list(DDI_Type_general_description.loc[DDI_Type_general_description['DDI type'] == predicted_DDI[0]].values[0])[1])\n",
    "    print(\"--- End of Query Results ---\")\n",
    "    print(\"\\nModel Load time (only loaded once per notebook start-up or reset): %.5f seconds\" % (model_load_time))\n",
    "    print(\"\\nQuery Run time: %.5f seconds\" % (time.time() - start_time))\n",
    "    return predicted_DDI[0]"
   ]
  },
  {
   "cell_type": "markdown",
   "metadata": {},
   "source": [
    "Step 5: Input any pair of drugs in the DB_ID (DrugBank ID) format within the database (1,710 drugs). DDI MLP will return its predicted DDI between the drug pair.\n",
    "\n",
    "\n",
    "For example, you could try setting Drug A to \"DB09000\" (or Cyamemazine) and Drug B to \"DB00460\" (or Verteporfin). This drug pair combination is the first row DDI entry in the \"DDI_MLP_Test_DB_Pair_and_Interaction.xlsx\" file. Cyamemazine may increase the photosensitizing activities of Verteporfin (Type 75 DDI). For other DDI pairings, please refer to \"DDI_MLP_Training_DB_Pair_and_Interaction.xlsx\", \"DDI_MLP_Validation_DB_Pair_and_Interaction.xlsx\" or \"DDI_MLP_Test_DB_Pair_and_Interaction.xlsx\" file."
   ]
  },
  {
   "cell_type": "code",
   "execution_count": 5,
   "metadata": {},
   "outputs": [
    {
     "name": "stdout",
     "output_type": "stream",
     "text": [
      "Model Name: DDI MLP, [4,1024] network architecture, triple features\n",
      "\n",
      "--- Query Details ---\n",
      "Drug A : DB09000 ( Common Name: Cyamemazine )\n",
      "Drug B : DB00460 ( Common Name: Verteporfin )\n",
      "\n",
      "--- Start of Query Results ---\n",
      "DDI MLP predicts type [75] DDI between Drug A ( Cyamemazine ) and B ( Verteporfin ).\n",
      "Type [75] DDI means : Drug A may increase the photosensitizing activities of Drug B.\n",
      "--- End of Query Results ---\n",
      "\n",
      "Model Load time (only loaded once per notebook start-up or reset): 5.26868 seconds\n",
      "\n",
      "Query Run time: 0.42137 seconds\n"
     ]
    }
   ],
   "source": [
    "Drug_A=\"DB09000\"\n",
    "Drug_B=\"DB00460\"\n",
    "\n",
    "predicted_DDI=execute_DDI_MLP(Drug_A, Drug_B)"
   ]
  },
  {
   "cell_type": "code",
   "execution_count": null,
   "metadata": {},
   "outputs": [],
   "source": []
  }
 ],
 "metadata": {
  "kernelspec": {
   "display_name": "Python 3",
   "language": "python",
   "name": "python3"
  },
  "language_info": {
   "codemirror_mode": {
    "name": "ipython",
    "version": 3
   },
   "file_extension": ".py",
   "mimetype": "text/x-python",
   "name": "python",
   "nbconvert_exporter": "python",
   "pygments_lexer": "ipython3",
   "version": "3.7.3"
  }
 },
 "nbformat": 4,
 "nbformat_minor": 2
}
