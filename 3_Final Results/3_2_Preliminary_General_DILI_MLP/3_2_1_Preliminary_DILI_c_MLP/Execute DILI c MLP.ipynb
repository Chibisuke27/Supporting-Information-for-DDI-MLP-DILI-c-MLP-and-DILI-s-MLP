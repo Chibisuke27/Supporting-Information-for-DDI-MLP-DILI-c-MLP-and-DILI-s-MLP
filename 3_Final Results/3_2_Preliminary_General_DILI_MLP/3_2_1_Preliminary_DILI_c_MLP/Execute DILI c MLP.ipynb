{
 "cells": [
  {
   "cell_type": "markdown",
   "metadata": {},
   "source": [
    "Step 1: Import Python Libraries into the Jupyter Notebook.\n",
    "\n",
    "Note: Please download the relevant Python packages to execute this notebook."
   ]
  },
  {
   "cell_type": "code",
   "execution_count": 1,
   "metadata": {},
   "outputs": [
    {
     "name": "stderr",
     "output_type": "stream",
     "text": [
      "Using TensorFlow backend.\n"
     ]
    }
   ],
   "source": [
    "import pandas as pd\n",
    "from keras.models import load_model\n",
    "import numpy as np\n",
    "import time"
   ]
  },
  {
   "cell_type": "markdown",
   "metadata": {},
   "source": [
    "Step 2: Load the precalculated featurizations for each of the 718 drugs in the DILIrank database (SSP, c-ADMET and c-MolDes)."
   ]
  },
  {
   "cell_type": "code",
   "execution_count": 2,
   "metadata": {},
   "outputs": [],
   "source": [
    "SSP=pd.read_csv(\"3_2_1_1_General_DILI_MLP_Features\\General_DILI_MLP_SSP.csv\")\n",
    "c_ADMET=pd.read_csv(\"3_2_1_1_General_DILI_MLP_Features\\General_DILI_MLP_Standardized_c-ADMET.csv\")\n",
    "c_MolDes=pd.read_csv(\"3_2_1_1_General_DILI_MLP_Features\\General_DILI_MLP_Standardized_c-MolDes.csv\")"
   ]
  },
  {
   "cell_type": "markdown",
   "metadata": {},
   "source": [
    "Step 3: Define a function, \"get_drug_query\", that takes the generic name of a drug as stated in the DILIrank database (718 drugs), which will then create the DILI-c MLP input by looking up the featurization values for both drugs in Step 2/\n",
    "\n",
    "Define a function, \"execute_DILI_c_MLP\",  that takes the k-th DILI-c MLP model (k=1 to 10), which will then output the output vector of the expected DILI concern level for the k-th DILI-c MLP model (output index 0 means low DILI concern and output index 1 means high DILI concern).\n",
    "\n",
    "Define another function, \"get_ensemble_result\", that takes the mean output vector of the 10 iterations of execute_DILI_c_MLP using 10 versions of DILI-c_MLP (stratified K=10) and then decide the final predicted DILI concern outcome, output index 0 means low DILI concern and output index 1 means high DILI concern. "
   ]
  },
  {
   "cell_type": "code",
   "execution_count": 3,
   "metadata": {},
   "outputs": [],
   "source": [
    "def get_drug_query(Drug):\n",
    "    Drug_query=[]\n",
    "\n",
    "    SSP_query=list(SSP.loc[SSP['DILIrank_ID'] == Drug].values[0])[1:]\n",
    "    c_ADMET_query=list(c_ADMET.loc[c_ADMET['DILIrank_ID'] == Drug].values[0])[1:]\n",
    "    c_MolDes_query=list(c_MolDes.loc[c_MolDes['DILIrank_ID'] == Drug].values[0])[1:]\n",
    "    Drug_query=SSP_query+c_MolDes_query+c_ADMET_query \n",
    "    return Drug_query\n",
    "\n",
    "def execute_DILI_c_MLP(Drug_query, current_model):\n",
    "    input_to_DILI_c_MLP=pd.DataFrame(Drug_query).T\n",
    "    #Get DILI-c MLP Prediction:\n",
    "    output_vector = current_model.predict(input_to_DILI_c_MLP)\n",
    "    return output_vector\n",
    "\n",
    "def get_ensemble_result(k_th_output_vector):\n",
    "    df=pd.DataFrame(k_th_output_vector)\n",
    "    mean_output_vector=np.asarray([np.mean(df[0].values), np.mean(df[1].values)])\n",
    "    predicted_DILI_c = np.argmax(mean_output_vector)\n",
    "\n",
    "    status=\"\"\n",
    "    if predicted_DILI_c==0:\n",
    "        status=\"Low-DILI-Concern\"\n",
    "    elif predicted_DILI_c==1:\n",
    "        status=\"High-DILI-Concern\"\n",
    "    \n",
    "    print(\"Model Name: DILI-c MLP, [1,128] network architecture, triple features\")\n",
    "    print(\"\\n--- Query Details ---\")\n",
    "    print(\"Drug :\", Drug)\n",
    "    print(\"\\n--- Start of Query Results ---\")\n",
    "    print(\"DILI-c MLP predicts that\", Drug, \"has\", status, \".\")\n",
    "    print(\"--- End of Query Results ---\")\n",
    "    return predicted_DILI_c"
   ]
  },
  {
   "cell_type": "markdown",
   "metadata": {},
   "source": [
    "Step 4: Load the 10 DILI-c MLP models into the notebook and perform DILI concern predictions. The final results is the ensemble of all the models.\n",
    "\n",
    "\n",
    "Note: You can safely ignore any tensorflow warnings that pop up when executing this cell."
   ]
  },
  {
   "cell_type": "code",
   "execution_count": 4,
   "metadata": {},
   "outputs": [
    {
     "name": "stdout",
     "output_type": "stream",
     "text": [
      "Starting Calculation:\n",
      "\n",
      "WARNING:tensorflow:From C:\\Users\\User\\Anaconda3\\lib\\site-packages\\tensorflow\\python\\ops\\control_flow_ops.py:423: colocate_with (from tensorflow.python.framework.ops) is deprecated and will be removed in a future version.\n",
      "Instructions for updating:\n",
      "Colocations handled automatically by placer.\n",
      "WARNING:tensorflow:From C:\\Users\\User\\Anaconda3\\lib\\site-packages\\tensorflow\\python\\ops\\math_ops.py:3066: to_int32 (from tensorflow.python.ops.math_ops) is deprecated and will be removed in a future version.\n",
      "Instructions for updating:\n",
      "Use tf.cast instead.\n",
      "Finished 1 out of 10 Models.\n",
      "Finished 2 out of 10 Models.\n",
      "Finished 3 out of 10 Models.\n",
      "Finished 4 out of 10 Models.\n",
      "Finished 5 out of 10 Models.\n",
      "Finished 6 out of 10 Models.\n",
      "Finished 7 out of 10 Models.\n",
      "Finished 8 out of 10 Models.\n",
      "Finished 9 out of 10 Models.\n",
      "Finished 10 out of 10 Models.\n",
      "Finished Calculation.\n",
      "\n",
      "Model Name: DILI-c MLP, [1,128] network architecture, triple features\n",
      "\n",
      "--- Query Details ---\n",
      "Drug : amineptine\n",
      "\n",
      "--- Start of Query Results ---\n",
      "DILI-c MLP predicts that amineptine has High-DILI-Concern .\n",
      "--- End of Query Results ---\n",
      "\n",
      "Total Model Load time: 39.38807 seconds\n",
      "Model Load time per cycle: 3.93881 seconds\n",
      "\n",
      "Total Query Run time: 4.42268 seconds\n",
      "Query Run time per cycle: 0.44227 seconds\n"
     ]
    }
   ],
   "source": [
    "Drug=\"amineptine\"\n",
    "k_th_output_vector=[]\n",
    "print(\"Starting Calculation:\\n\")\n",
    "start_time = time.time()\n",
    "model_load_time=start_time-start_time\n",
    "Drug_query=get_drug_query(Drug)\n",
    "query_time=time.time() - start_time\n",
    "\n",
    "for current_k_iteration in range(10):\n",
    "    start_time = time.time()\n",
    "    saved_model = load_model(\"3_2_1_2_Misc Input Files for DILI-c MLP\\DILI-c_MLP_K_\"+str(current_k_iteration)+\".h5\")\n",
    "    model_load_time=model_load_time+(time.time() - start_time)\n",
    "    \n",
    "    start_time = time.time()\n",
    "    k_th_output_vector.append(list(execute_DILI_c_MLP(Drug_query, saved_model)[0]))\n",
    "    query_time=query_time+(time.time() - start_time)\n",
    "    print(\"Finished\", current_k_iteration+1, \"out of 10 Models.\")\n",
    "\n",
    "print(\"Finished Calculation.\\n\")\n",
    "\n",
    "get_ensemble_result(k_th_output_vector)\n",
    "\n",
    "print(\"\\nTotal Model Load time: %.5f seconds\" % (model_load_time))\n",
    "print(\"Model Load time per cycle: %.5f seconds\" % (model_load_time/10))\n",
    "print(\"\\nTotal Query Run time: %.5f seconds\" % (query_time))\n",
    "print(\"Query Run time per cycle: %.5f seconds\" % (query_time/10))"
   ]
  },
  {
   "cell_type": "code",
   "execution_count": null,
   "metadata": {},
   "outputs": [],
   "source": []
  }
 ],
 "metadata": {
  "kernelspec": {
   "display_name": "Python 3",
   "language": "python",
   "name": "python3"
  },
  "language_info": {
   "codemirror_mode": {
    "name": "ipython",
    "version": 3
   },
   "file_extension": ".py",
   "mimetype": "text/x-python",
   "name": "python",
   "nbconvert_exporter": "python",
   "pygments_lexer": "ipython3",
   "version": "3.7.3"
  }
 },
 "nbformat": 4,
 "nbformat_minor": 2
}
